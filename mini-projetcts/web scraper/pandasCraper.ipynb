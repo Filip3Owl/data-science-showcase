{
 "cells": [
  {
   "cell_type": "code",
   "execution_count": 1,
   "id": "72d8a73b",
   "metadata": {},
   "outputs": [
    {
     "name": "stdout",
     "output_type": "stream",
     "text": [
      "    Rank                                Bank name  \\\n",
      "0      1  Industrial and Commercial Bank of China   \n",
      "1      2               Agricultural Bank of China   \n",
      "2      3                  China Construction Bank   \n",
      "3      4                            Bank of China   \n",
      "4      5                           JPMorgan Chase   \n",
      "..   ...                                      ...   \n",
      "95    96                            Handelsbanken   \n",
      "96    97                 Industrial Bank of Korea   \n",
      "97    98                                      DNB   \n",
      "98    99                      Qatar National Bank   \n",
      "99   100                                 VTB Bank   \n",
      "\n",
      "    Total assets (2024) (US$ billion)  \n",
      "0                             6303.44  \n",
      "1                             5623.12  \n",
      "2                             5400.28  \n",
      "3                             4578.28  \n",
      "4                             4002.81  \n",
      "..                                ...  \n",
      "95                             351.79  \n",
      "96                             345.81  \n",
      "97                             339.21  \n",
      "98                             338.14  \n",
      "99                             326.85  \n",
      "\n",
      "[100 rows x 3 columns]\n"
     ]
    }
   ],
   "source": [
    "import pandas as pd\n",
    "\n",
    "URL = 'https://en.wikipedia.org/wiki/List_of_largest_banks'\n",
    "tables = pd.read_html(URL)\n",
    "df = tables[0]\n",
    "print(df)"
   ]
  },
  {
   "cell_type": "code",
   "execution_count": 3,
   "id": "d1ce52a2",
   "metadata": {},
   "outputs": [
    {
     "name": "stdout",
     "output_type": "stream",
     "text": [
      "    Country/Territory IMF[1][12]            World Bank[13]             \\\n",
      "    Country/Territory   Forecast       Year       Estimate       Year   \n",
      "0               World  113795678       2025      105435540       2023   \n",
      "1       United States   30507217       2025       27360935       2023   \n",
      "2               China   19231705  [n 1]2025       17794782  [n 3]2023   \n",
      "3             Germany    4744804       2025        4456081       2023   \n",
      "4               India    4187017       2025        3549919       2023   \n",
      "..                ...        ...        ...            ...        ...   \n",
      "205             Palau        333       2025            263       2023   \n",
      "206          Kiribati        312       2025            279       2023   \n",
      "207  Marshall Islands        297       2025            284       2023   \n",
      "208             Nauru        169       2025            154       2023   \n",
      "209            Tuvalu         65       2025             62       2023   \n",
      "\n",
      "    United Nations[14]             \n",
      "              Estimate       Year  \n",
      "0            100834796       2022  \n",
      "1             25744100       2022  \n",
      "2             17963170  [n 1]2022  \n",
      "3              4076923       2022  \n",
      "4              3465541       2022  \n",
      "..                 ...        ...  \n",
      "205                225       2022  \n",
      "206                223       2022  \n",
      "207                279       2022  \n",
      "208                147       2022  \n",
      "209                 59       2022  \n",
      "\n",
      "[210 rows x 7 columns]\n"
     ]
    }
   ],
   "source": [
    "URL = 'https://en.wikipedia.org/wiki/List_of_countries_by_GDP_(nominal)'\n",
    "\n",
    "tables = pd.read_html(URL)\n",
    "df = tables[2] # the required table will have index 2\n",
    "print(df)"
   ]
  }
 ],
 "metadata": {
  "kernelspec": {
   "display_name": ".venv",
   "language": "python",
   "name": "python3"
  },
  "language_info": {
   "codemirror_mode": {
    "name": "ipython",
    "version": 3
   },
   "file_extension": ".py",
   "mimetype": "text/x-python",
   "name": "python",
   "nbconvert_exporter": "python",
   "pygments_lexer": "ipython3",
   "version": "3.13.3"
  }
 },
 "nbformat": 4,
 "nbformat_minor": 5
}
