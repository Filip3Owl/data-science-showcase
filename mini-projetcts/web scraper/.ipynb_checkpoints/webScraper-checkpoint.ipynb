{
 "cells": [
  {
   "cell_type": "markdown",
   "id": "28c09ea7",
   "metadata": {},
   "source": [
    "### Objectives\n",
    "\n",
    "* **Extract data** from websites using web scraping techniques.\n",
    "* **Load and process** tabular data into Pandas DataFrames.\n",
    "* **Manipulate data** within DataFrames using NumPy.\n",
    "* **Save your processed data** to a CSV file.\n"
   ]
  },
  {
   "cell_type": "code",
   "execution_count": 1,
   "id": "5b1f7275",
   "metadata": {},
   "outputs": [],
   "source": [
    "import numpy as np\n",
    "import pandas as pd\n",
    "\n",
    "def warn(*args, **kwargs):\n",
    "    pass\n",
    "import warnings\n",
    "warnings.warn = warn\n",
    "warnings.filterwarnings('ignore')"
   ]
  },
  {
   "cell_type": "code",
   "execution_count": 2,
   "id": "a1d863ed",
   "metadata": {},
   "outputs": [],
   "source": [
    "#Required URL\n",
    "URL = \"https://web.archive.org/web/20230902185326/https://en.wikipedia.org/wiki/List_of_countries_by_GDP_%28nominal%29\""
   ]
  },
  {
   "cell_type": "code",
   "execution_count": 4,
   "id": "0fff5dae",
   "metadata": {},
   "outputs": [],
   "source": [
    "tables = pd.read_html(URL)"
   ]
  },
  {
   "cell_type": "code",
   "execution_count": null,
   "id": "4fc03634",
   "metadata": {},
   "outputs": [],
   "source": [
    "# Seleciona a quarta tabela da lista de tabelas extraídas.\n",
    "# Assume-se que 'tables' é uma lista (ou objeto similar) contendo DataFrames ou elementos de tabela,\n",
    "# e que a tabela de interesse está na posição de índice 3 (a quarta tabela, já que a contagem começa do 0).\n",
    "df = tables[3]\n",
    "\n",
    "# Substitui os nomes das colunas existentes por números sequenciais (0, 1, 2, ...).\n",
    "# Isso é feito para padronizar os cabeçalhos e facilitar a seleção de colunas,\n",
    "# especialmente útil quando os nomes originais são confusos ou inexistentes.\n",
    "df.columns = range(df.shape[1])\n",
    "\n",
    "# Mantém apenas as colunas de índice 0 e 2, descartando as demais.\n",
    "# Com base na estrutura da tabela original, estas são as colunas que contêm\n",
    "# os dados de 'País' e 'PIB', respectivamente, após a renomeação numérica.\n",
    "df = df[[0, 2]]\n",
    "\n",
    "# Seleciona as linhas da segunda à décima primeira (índices 1 a 10).\n",
    "# O `.iloc` é usado para seleção baseada na posição numérica.\n",
    "# Este passo filtra registros específicos, como os 10 primeiros países de interesse.\n",
    "df = df.iloc[1:11,:]\n",
    "\n",
    "# Renomeia as colunas selecionadas para nomes mais descritivos.\n",
    "# 'Country' (País) é atribuído à antiga coluna 0, e 'GDP (Million USD)' (PIB em Milhões de USD)\n",
    "# é atribuído à antiga coluna 2, tornando os dados semanticamente claros.\n",
    "df.columns = ['Country', 'GDP (Million USD)']"
   ]
  },
  {
   "cell_type": "code",
   "execution_count": null,
   "id": "6630adcd",
   "metadata": {},
   "outputs": [
    {
     "data": {
      "text/html": [
       "<div>\n",
       "<style scoped>\n",
       "    .dataframe tbody tr th:only-of-type {\n",
       "        vertical-align: middle;\n",
       "    }\n",
       "\n",
       "    .dataframe tbody tr th {\n",
       "        vertical-align: top;\n",
       "    }\n",
       "\n",
       "    .dataframe thead th {\n",
       "        text-align: right;\n",
       "    }\n",
       "</style>\n",
       "<table border=\"1\" class=\"dataframe\">\n",
       "  <thead>\n",
       "    <tr style=\"text-align: right;\">\n",
       "      <th></th>\n",
       "      <th>Country</th>\n",
       "      <th>GDP (Billion USD)</th>\n",
       "    </tr>\n",
       "  </thead>\n",
       "  <tbody>\n",
       "    <tr>\n",
       "      <th>1</th>\n",
       "      <td>United States</td>\n",
       "      <td>26854.60</td>\n",
       "    </tr>\n",
       "    <tr>\n",
       "      <th>2</th>\n",
       "      <td>China</td>\n",
       "      <td>19373.59</td>\n",
       "    </tr>\n",
       "    <tr>\n",
       "      <th>3</th>\n",
       "      <td>Japan</td>\n",
       "      <td>4409.74</td>\n",
       "    </tr>\n",
       "    <tr>\n",
       "      <th>4</th>\n",
       "      <td>Germany</td>\n",
       "      <td>4308.85</td>\n",
       "    </tr>\n",
       "    <tr>\n",
       "      <th>5</th>\n",
       "      <td>India</td>\n",
       "      <td>3736.88</td>\n",
       "    </tr>\n",
       "    <tr>\n",
       "      <th>6</th>\n",
       "      <td>United Kingdom</td>\n",
       "      <td>3158.94</td>\n",
       "    </tr>\n",
       "    <tr>\n",
       "      <th>7</th>\n",
       "      <td>France</td>\n",
       "      <td>2923.49</td>\n",
       "    </tr>\n",
       "    <tr>\n",
       "      <th>8</th>\n",
       "      <td>Italy</td>\n",
       "      <td>2169.74</td>\n",
       "    </tr>\n",
       "    <tr>\n",
       "      <th>9</th>\n",
       "      <td>Canada</td>\n",
       "      <td>2089.67</td>\n",
       "    </tr>\n",
       "    <tr>\n",
       "      <th>10</th>\n",
       "      <td>Brazil</td>\n",
       "      <td>2081.24</td>\n",
       "    </tr>\n",
       "  </tbody>\n",
       "</table>\n",
       "</div>"
      ],
      "text/plain": [
       "           Country  GDP (Billion USD)\n",
       "1    United States           26854.60\n",
       "2            China           19373.59\n",
       "3            Japan            4409.74\n",
       "4          Germany            4308.85\n",
       "5            India            3736.88\n",
       "6   United Kingdom            3158.94\n",
       "7           France            2923.49\n",
       "8            Italy            2169.74\n",
       "9           Canada            2089.67\n",
       "10          Brazil            2081.24"
      ]
     },
     "execution_count": 10,
     "metadata": {},
     "output_type": "execute_result"
    }
   ],
   "source": [
    "# Converte a coluna 'GDP (Million USD)' para o tipo inteiro.\n",
    "# Isso garante que os valores sejam tratados como números inteiros, removendo quaisquer decimais residuais\n",
    "# e preparando-os para cálculos numéricos precisos.\n",
    "df['GDP (Million USD)'] = df['GDP (Million USD)'].astype(int)\n",
    "\n",
    "# Converte os valores de PIB de Milhões de USD para Bilhões de USD.\n",
    "# Para fazer essa conversão, dividimos cada valor por 1000, pois 1 Bilhão = 1000 Milhões.\n",
    "# Isso padroniza a escala da métrica de PIB para uma unidade mais comum em relatórios econômicos.\n",
    "df[['GDP (Million USD)']] = df[['GDP (Million USD)']]/1000\n",
    "\n",
    "# Arredonda os valores de PIB para duas casas decimais.\n",
    "# Isso melhora a legibilidade e a apresentação dos dados, evitando números muito longos e com muitas casas decimais,\n",
    "# o que é comum ao lidar com valores monetários.\n",
    "df[['GDP (Million USD)']] = np.round(df[['GDP (Million USD)']], 2)\n",
    "\n",
    "# Renomeia a coluna 'GDP (Million USD)' para 'GDP (Billion USD)'.\n",
    "# Isso reflete a mudança de escala realizada no passo anterior, garantindo que o nome da coluna\n",
    "# represente corretamente a unidade dos dados agora contidos nela.\n",
    "df.rename(columns = {'GDP (Million USD)' : 'GDP (Billion USD)'})"
   ]
  },
  {
   "cell_type": "code",
   "execution_count": 11,
   "id": "1e806581",
   "metadata": {},
   "outputs": [],
   "source": [
    "df.to_csv('./Largest_economies.csv')"
   ]
  }
 ],
 "metadata": {
  "kernelspec": {
   "display_name": ".venv",
   "language": "python",
   "name": "python3"
  },
  "language_info": {
   "codemirror_mode": {
    "name": "ipython",
    "version": 3
   },
   "file_extension": ".py",
   "mimetype": "text/x-python",
   "name": "python",
   "nbconvert_exporter": "python",
   "pygments_lexer": "ipython3",
   "version": "3.13.3"
  }
 },
 "nbformat": 4,
 "nbformat_minor": 5
}
